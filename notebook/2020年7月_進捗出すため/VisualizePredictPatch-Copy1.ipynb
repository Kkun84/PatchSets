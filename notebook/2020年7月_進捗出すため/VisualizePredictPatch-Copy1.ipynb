{
 "cells": [
  {
   "cell_type": "code",
   "execution_count": 1,
   "metadata": {},
   "outputs": [
    {
     "data": {
      "text/plain": [
       "PosixPath('/workspace/outputs/2020-07-20/11-10-16')"
      ]
     },
     "execution_count": 1,
     "metadata": {},
     "output_type": "execute_result"
    }
   ],
   "source": [
    "from pathlib import Path\n",
    "checkpoint = Path('/').joinpath('workspace/outputs/2020-07-20/11-10-16')\n",
    "checkpoint"
   ]
  },
  {
   "cell_type": "code",
   "execution_count": 52,
   "metadata": {},
   "outputs": [],
   "source": [
    "import numpy as np\n",
    "import torch\n",
    "import pytorch_lightning as pl\n",
    "import torchvision\n",
    "from torchvision.transforms.functional import to_pil_image\n",
    "from torchvision.utils import make_grid\n",
    "import hydra\n",
    "import yaml\n",
    "import matplotlib.pyplot as plt"
   ]
  },
  {
   "cell_type": "code",
   "execution_count": 3,
   "metadata": {},
   "outputs": [],
   "source": [
    "from src.model import Encoder, Decoder\n",
    "from src.integrated_model import IntegratedModel\n",
    "from src.patch import make_patch2d"
   ]
  },
  {
   "cell_type": "code",
   "execution_count": 4,
   "metadata": {},
   "outputs": [
    {
     "name": "stdout",
     "output_type": "stream",
     "text": [
      "{'callback': {'callbacks': None, 'checkpoint': {'class': 'pytorch_lightning.callbacks.ModelCheckpoint', 'params': {'filepath': None, 'mode': 'auto', 'monitor': 'val_loss', 'save_top_k': 1, 'verbose': False}}, 'early_stopping': {'class': 'pytorch_lightning.callbacks.EarlyStopping', 'params': {'min_delta': 0, 'mode': 'auto', 'monitor': 'val_loss', 'patience': '${hparams.early_stopping}', 'verbose': False}}}, 'dataset': {'class': 'src.dataset.adobe_font_char_images', 'params': {'root': '/dataset/'}}, 'dataset_output_n': 52, 'experiment_name': 'Adobe_hparam_search', 'hparams': {'batch_size': 1024, 'dataset_n': 0, 'dataset_n_splits': 5, 'early_stopping': 50, 'latent_dim': 64, 'lr': 0.001, 'max_epochs': 100000, 'min_epochs': 1, 'n_pow': 0, 'num_workers': 6, 'patch_size': 15, 'seed': 0, 'test_patch_n': [1, 2, 4, 8, 16, 32, 64, 128, 256, 512], 'train_patch_n': [1, 2, 4, 8, 16, 32, 64, 128, 256]}, 'loggers': [{'class': 'pytorch_lightning.loggers.TensorBoardLogger', 'params': {'name': '', 'save_dir': '.', 'version': ''}}, {'class': 'pytorch_lightning.loggers.MLFlowLogger', 'params': {'experiment_name': '${experiment_name}', 'save_dir': None, 'tags': None, 'tracking_uri': 'file:/workspace/mlruns'}}], 'model_params': {'decoder': {'hidden_n_0': 256, 'hidden_n_1': 256, 'input_n': '${hparams.latent_dim}', 'output_n': '${dataset_output_n}'}, 'encoder': {'hidden_n_0': 256, 'hidden_n_1': 256, 'input_shape': [1, '${hparams.patch_size}', '${hparams.patch_size}'], 'n_pow': '${hparams.n_pow}', 'output_n': '${hparams.latent_dim}'}}, 'name': '', 'optim': {'lr_scheduler': None, 'optimizer': '${optimizer}'}, 'optimizer': {'class': 'torch.optim.Adam', 'params': {'lr': '${hparams.lr}'}}, 'target_transform': [{'class': 'src.dataset.ExtractAlphabet'}], 'trainer': {'deterministic': False, 'gpus': 1, 'max_epochs': '${hparams.max_epochs}', 'min_epochs': '${hparams.min_epochs}', 'num_nodes': 1, 'weights_summary': 'full'}, 'transform': [{'class': 'torchvision.transforms.ToTensor'}]}\n"
     ]
    }
   ],
   "source": [
    "with open(checkpoint.joinpath('.hydra', 'config.yaml')) as file:\n",
    "    config = hydra.utils.DictConfig(yaml.safe_load(file))\n",
    "print(config)"
   ]
  },
  {
   "cell_type": "code",
   "execution_count": 5,
   "metadata": {},
   "outputs": [],
   "source": [
    "encoder = Encoder(**config.model_params.encoder)\n",
    "decoder = Decoder(**config.model_params.decoder)"
   ]
  },
  {
   "cell_type": "code",
   "execution_count": 6,
   "metadata": {},
   "outputs": [],
   "source": [
    "import glob\n",
    "\n",
    "model_checkpoint = glob.glob(str(checkpoint / '**' / '*.ckpt'), recursive=True)\n",
    "assert len(model_checkpoint) == 1\n",
    "model_checkpoint = model_checkpoint[0]"
   ]
  },
  {
   "cell_type": "code",
   "execution_count": 7,
   "metadata": {},
   "outputs": [
    {
     "name": "stderr",
     "output_type": "stream",
     "text": [
      "100%|██████████| 58864/58864 [00:04<00:00, 14619.10it/s]\n",
      "100%|██████████| 49036/49036 [00:02<00:00, 17346.71it/s]\n",
      "100%|██████████| 9828/9828 [00:01<00:00, 9534.69it/s] \n"
     ]
    }
   ],
   "source": [
    "transform = torchvision.transforms.Compose([hydra.utils.instantiate(i) for i in config.transform]) if config.transform else None\n",
    "# target_transform = torchvision.transforms.Compose([hydra.utils.instantiate(i) for i in config.target_transform]) if config.target_transform else None\n",
    "target_transform = None\n",
    "\n",
    "____, dataset = hydra.utils.instantiate(config.dataset)\n",
    "dataset.set_transform(transform, target_transform)"
   ]
  },
  {
   "cell_type": "code",
   "execution_count": 8,
   "metadata": {},
   "outputs": [
    {
     "data": {
      "text/plain": [
       "IntegratedModel(\n",
       "  (encoder): Encoder(\n",
       "    (linear_0): Linear(in_features=225, out_features=256, bias=True)\n",
       "    (linear_1): Linear(in_features=256, out_features=256, bias=True)\n",
       "    (linear_2): Linear(in_features=256, out_features=64, bias=True)\n",
       "  )\n",
       "  (decoder): Decoder(\n",
       "    (linear_0): Linear(in_features=64, out_features=256, bias=True)\n",
       "    (linear_1): Linear(in_features=256, out_features=256, bias=True)\n",
       "    (linear_2): Linear(in_features=256, out_features=52, bias=True)\n",
       "  )\n",
       ")"
      ]
     },
     "execution_count": 8,
     "metadata": {},
     "output_type": "execute_result"
    }
   ],
   "source": [
    "model = IntegratedModel.load_from_checkpoint(model_checkpoint, encoder=encoder, decoder=decoder, optim=None, dataset=dataset)\n",
    "model"
   ]
  },
  {
   "cell_type": "code",
   "execution_count": 9,
   "metadata": {},
   "outputs": [
    {
     "name": "stdout",
     "output_type": "stream",
     "text": [
      "0\n",
      "-0.00873546302318573 0.006147111300379038 0.1780572235584259 -0.5008330941200256\n",
      "-0.0873546451330185 0.6147111058235168 1.7805720567703247 -5.008330821990967\n",
      "-0.8735462427139282 61.47106170654297 17.805736541748047 -50.083274841308594\n",
      "\n",
      "0.0003907713107764721 0.0007709919009357691 0.12149326503276825 -0.08165068179368973\n",
      "0.003907716833055019 0.07709918171167374 1.2149325609207153 -0.8165066242218018\n",
      "0.03907732665538788 7.709926128387451 12.149332046508789 -8.165070533752441\n",
      "\n",
      "0.0004006603849120438 0.00280206510797143 0.16049744188785553 -0.20188288390636444\n",
      "0.03255486860871315 0.18446774780750275 1.6356579065322876 -1.458034634590149\n",
      "0.17564049363136292 24.284608840942383 19.12886619567871 -17.263090133666992\n",
      "\n",
      "-0.0031820214353501797 0.017106378450989723 0.41799163818359375 -0.6773737668991089\n",
      "-0.015003873966634274 0.2958102226257324 2.15407133102417 -2.1791157722473145\n",
      "0.055018022656440735 22.773460388183594 19.796470642089844 -17.343021392822266\n",
      "\n",
      "0.005366566590964794 0.0014359417837113142 0.11649706214666367 -0.12247569859027863\n",
      "0.00929848663508892 0.2463948130607605 1.700484037399292 -1.5117741823196411\n",
      "0.0951676070690155 20.733747482299805 18.156410217285156 -15.249969482421875\n"
     ]
    }
   ],
   "source": [
    "patch_size = config.hparams.patch_size\n",
    "n_pow = 0 - config.hparams.n_pow\n",
    "print(n_pow)\n",
    "\n",
    "patch = torch.zeros([1, 100, 1, patch_size, patch_size])\n",
    "a = patch[:, :1]\n",
    "a = encoder(a) / a.shape[1]**n_pow\n",
    "print(a.mean().item(), a.var().item(), a.max().item(), a.min().item())\n",
    "a = patch[:, :10]\n",
    "a = encoder(a) / a.shape[1]**n_pow\n",
    "print(a.mean().item(), a.var().item(), a.max().item(), a.min().item())\n",
    "a = patch[:]\n",
    "a = encoder(a) / a.shape[1]**n_pow\n",
    "print(a.mean().item(), a.var().item(), a.max().item(), a.min().item())\n",
    "\n",
    "print()\n",
    "\n",
    "patch = torch.ones([1, 100, 1, patch_size, patch_size])\n",
    "a = patch[:, :1]\n",
    "a = encoder(a) / a.shape[1]**n_pow\n",
    "print(a.mean().item(), a.var().item(), a.max().item(), a.min().item())\n",
    "a = patch[:, :10]\n",
    "a = encoder(a) / a.shape[1]**n_pow\n",
    "print(a.mean().item(), a.var().item(), a.max().item(), a.min().item())\n",
    "a = patch[:]\n",
    "a = encoder(a) / a.shape[1]**n_pow\n",
    "print(a.mean().item(), a.var().item(), a.max().item(), a.min().item())\n",
    "\n",
    "print()\n",
    "\n",
    "patch = torch.rand([1, 100, 1, patch_size, patch_size])\n",
    "a = patch[:, :1]\n",
    "a = encoder(a) / a.shape[1]**n_pow\n",
    "print(a.mean().item(), a.var().item(), a.max().item(), a.min().item())\n",
    "a = patch[:, :10]\n",
    "a = encoder(a) / a.shape[1]**n_pow\n",
    "print(a.mean().item(), a.var().item(), a.max().item(), a.min().item())\n",
    "a = patch[:]\n",
    "a = encoder(a) / a.shape[1]**n_pow\n",
    "print(a.mean().item(), a.var().item(), a.max().item(), a.min().item())\n",
    "\n",
    "print()\n",
    "\n",
    "patch = torch.rand([1, 100, 1, patch_size, patch_size])\n",
    "a = patch[:, :1]\n",
    "a = encoder(a) / a.shape[1]**n_pow\n",
    "print(a.mean().item(), a.var().item(), a.max().item(), a.min().item())\n",
    "a = patch[:, :10]\n",
    "a = encoder(a) / a.shape[1]**n_pow\n",
    "print(a.mean().item(), a.var().item(), a.max().item(), a.min().item())\n",
    "a = patch[:]\n",
    "a = encoder(a) / a.shape[1]**n_pow\n",
    "print(a.mean().item(), a.var().item(), a.max().item(), a.min().item())\n",
    "\n",
    "print()\n",
    "\n",
    "patch = torch.rand([1, 100, 1, patch_size, patch_size])\n",
    "a = patch[:, :1]\n",
    "a = encoder(a) / a.shape[1]**n_pow\n",
    "print(a.mean().item(), a.var().item(), a.max().item(), a.min().item())\n",
    "a = patch[:, :10]\n",
    "a = encoder(a) / a.shape[1]**n_pow\n",
    "print(a.mean().item(), a.var().item(), a.max().item(), a.min().item())\n",
    "a = patch[:]\n",
    "a = encoder(a) / a.shape[1]**n_pow\n",
    "print(a.mean().item(), a.var().item(), a.max().item(), a.min().item())\n"
   ]
  },
  {
   "cell_type": "code",
   "execution_count": 141,
   "metadata": {},
   "outputs": [
    {
     "data": {
      "image/png": "[encoded data removed]",
      "text/plain": [
       "<Figure size 432x288 with 1 Axes>"
      ]
     },
     "metadata": {
      "needs_background": "light"
     },
     "output_type": "display_data"
    },
    {
     "name": "stdout",
     "output_type": "stream",
     "text": [
      "[[-0.005832 -0.01417   0.034587 -0.054413 -0.073938 -0.084588 -0.003337]\n",
      " [ 0.020267  0.028471  0.040354  0.106867  0.122378  0.152505  0.624353]\n",
      " [ 0.56486   0.641238  1.020964  1.140027  0.853309  0.961325  4.597016]\n",
      " [-0.707893 -0.925533 -0.333285 -1.720084 -1.334027 -1.476961 -1.803752]\n",
      " [ 1.272753  1.566771  1.354249  2.860111  2.187335  2.438286  6.400768]\n",
      " [ 1.130919  1.34408   1.618294  2.630994  2.838957  3.172654  6.27176 ]]\n"
     ]
    }
   ],
   "source": [
    "index = (patch.mean([1, 2, 3, 4]) - 0.5).abs().argmin()\n",
    "# index = 2470\n",
    "w = range(16)\n",
    "w = [12, 1, 6, 3, 5, 7, 4]\n",
    "plt.imshow(to_pil_image(make_grid(patch[index, w], nrow=9, pad_value=0.5)))\n",
    "plt.show()\n",
    "\n",
    "tmp = np.get_printoptions()\n",
    "np.set_printoptions(precision=6, suppress=True)\n",
    "\n",
    "b = []\n",
    "for p in patch[index, w]:\n",
    "    a = encoder(p[None])\n",
    "    b.append([a.mean().item(), a.var().item(), a.max().item(), a.min().item(), a.max().item() - a.min().item(), a.norm().item()])\n",
    "print(np.array(b).T)\n",
    "\n",
    "np.set_printoptions(**tmp)"
   ]
  },
  {
   "cell_type": "code",
   "execution_count": 112,
   "metadata": {},
   "outputs": [
    {
     "name": "stdout",
     "output_type": "stream",
     "text": [
      "189.0\n",
      "0 AGaramondPro-BoldItalic capA\n"
     ]
    },
    {
     "data": {
      "image/png": "[encoded data removed]",
      "text/plain": [
       "<Figure size 432x288 with 1 Axes>"
      ]
     },
     "metadata": {
      "needs_background": "light"
     },
     "output_type": "display_data"
    },
    {
     "name": "stdout",
     "output_type": "stream",
     "text": [
      "\n",
      "tensor(2737)\n",
      "(true_class == predicted_class).item()=True\n",
      "capA 0.9999884366989136\n",
      "capA 0.9999884366989136\n"
     ]
    },
    {
     "data": {
      "image/png": "[encoded data removed]",
      "text/plain": [
       "<Figure size 432x288 with 1 Axes>"
      ]
     },
     "metadata": {
      "needs_background": "light"
     },
     "output_type": "display_data"
    },
    {
     "name": "stdout",
     "output_type": "stream",
     "text": [
      "\n"
     ]
    }
   ],
   "source": [
    "print(len(dataset) / 52)\n",
    "with torch.no_grad():\n",
    "    for i, (image, t) in zip(range(52 * 4), dataset):\n",
    "        font = t['font']\n",
    "        class_ = t['alphabet']\n",
    "        print(i, dataset.unique_font[font], dataset.unique_alphabet[class_])\n",
    "        plt.imshow(to_pil_image(image), 'gray')\n",
    "        plt.show()\n",
    "        print()\n",
    "        x = image[None].expand([2**16, -1, -1, -1])\n",
    "        for patch_n, nrow in zip(*zip([16, 4], [2, 2], [4, 2], [8, 4])):\n",
    "            patch = make_patch2d(x, config.hparams.patch_size, patch_n)\n",
    "            y = model(patch)\n",
    "            max_index = y[:, class_].argmax()\n",
    "            print(max_index)\n",
    "\n",
    "            true_class = class_\n",
    "            true_prob = y[max_index].softmax(0)[class_].item()\n",
    "            predicted_class = y[max_index].argmax(0)\n",
    "            predicted_prob = y[max_index].softmax(0)[predicted_class].item()\n",
    "            \n",
    "            print(f'(true_class == predicted_class).item()={(true_class == predicted_class).item()}')\n",
    "            print(dataset.unique_alphabet[true_class], true_prob)\n",
    "            print(dataset.unique_alphabet[predicted_class], predicted_prob)\n",
    "            plt.imshow(to_pil_image(make_grid(patch[max_index], nrow=nrow, pad_value=0.5)))\n",
    "            plt.show()\n",
    "            print()\n",
    "            break\n",
    "        break"
   ]
  },
  {
   "cell_type": "code",
   "execution_count": null,
   "metadata": {},
   "outputs": [],
   "source": []
  }
 ],
 "metadata": {
  "kernelspec": {
   "display_name": "Python 3",
   "language": "python",
   "name": "python3"
  },
  "language_info": {
   "codemirror_mode": {
    "name": "ipython",
    "version": 3
   },
   "file_extension": ".py",
   "mimetype": "text/x-python",
   "name": "python",
   "nbconvert_exporter": "python",
   "pygments_lexer": "ipython3",
   "version": "3.7.7"
  }
 },
 "nbformat": 4,
 "nbformat_minor": 4
}
